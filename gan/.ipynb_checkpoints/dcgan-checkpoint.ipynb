{
 "cells": [
  {
   "cell_type": "code",
   "execution_count": 56,
   "id": "7fce7ac6",
   "metadata": {},
   "outputs": [],
   "source": [
    "import pandas as pd\n",
    "import numpy as np\n",
    "import matplotlib.pyplot as plt"
   ]
  },
  {
   "cell_type": "code",
   "execution_count": 57,
   "id": "c44020d7",
   "metadata": {},
   "outputs": [],
   "source": [
    "from tensorflow.keras.datasets import mnist"
   ]
  },
  {
   "cell_type": "code",
   "execution_count": 58,
   "id": "edf6a99f",
   "metadata": {},
   "outputs": [],
   "source": [
    "(X_train, y_train), (X_test, y_test) = mnist.load_data()"
   ]
  },
  {
   "cell_type": "code",
   "execution_count": 59,
   "id": "06a8b496",
   "metadata": {},
   "outputs": [
    {
     "data": {
      "text/plain": [
       "<matplotlib.image.AxesImage at 0x1c4b8432e88>"
      ]
     },
     "execution_count": 59,
     "metadata": {},
     "output_type": "execute_result"
    },
    {
     "data": {
      "image/png": "[encoded data removed]",
      "text/plain": [
       "<Figure size 432x288 with 1 Axes>"
      ]
     },
     "metadata": {
      "needs_background": "light"
     },
     "output_type": "display_data"
    }
   ],
   "source": [
    "plt.imshow(X_train[0])"
   ]
  },
  {
   "cell_type": "code",
   "execution_count": 60,
   "id": "0351e32e",
   "metadata": {},
   "outputs": [
    {
     "data": {
      "text/plain": [
       "array([5, 0, 4, ..., 5, 6, 8], dtype=uint8)"
      ]
     },
     "execution_count": 60,
     "metadata": {},
     "output_type": "execute_result"
    }
   ],
   "source": [
    "y_train"
   ]
  },
  {
   "cell_type": "code",
   "execution_count": 61,
   "id": "5fa9d470",
   "metadata": {},
   "outputs": [],
   "source": [
    "X_train = X_train/255"
   ]
  },
  {
   "cell_type": "code",
   "execution_count": 62,
   "id": "6c0a0d03",
   "metadata": {},
   "outputs": [],
   "source": [
    "X_train = X_train.reshape(-1, 28, 28, 1) * 2. - 1."
   ]
  },
  {
   "cell_type": "code",
   "execution_count": 63,
   "id": "c0900c34",
   "metadata": {},
   "outputs": [
    {
     "data": {
      "text/plain": [
       "-1.0"
      ]
     },
     "execution_count": 63,
     "metadata": {},
     "output_type": "execute_result"
    }
   ],
   "source": [
    "X_train.min()"
   ]
  },
  {
   "cell_type": "code",
   "execution_count": 64,
   "id": "2bcbf925",
   "metadata": {},
   "outputs": [
    {
     "data": {
      "text/plain": [
       "1.0"
      ]
     },
     "execution_count": 64,
     "metadata": {},
     "output_type": "execute_result"
    }
   ],
   "source": [
    "X_train.max()"
   ]
  },
  {
   "cell_type": "code",
   "execution_count": 65,
   "id": "d7688bef",
   "metadata": {},
   "outputs": [],
   "source": [
    "only_zeros = X_train[y_train==0]"
   ]
  },
  {
   "cell_type": "code",
   "execution_count": 66,
   "id": "8a487626",
   "metadata": {},
   "outputs": [
    {
     "data": {
      "text/plain": [
       "(5923, 28, 28, 1)"
      ]
     },
     "execution_count": 66,
     "metadata": {},
     "output_type": "execute_result"
    }
   ],
   "source": [
    "only_zeros.shape"
   ]
  },
  {
   "cell_type": "code",
   "execution_count": 67,
   "id": "bcad0d85",
   "metadata": {},
   "outputs": [],
   "source": [
    "import tensorflow as tf\n",
    "from tensorflow.keras.layers import Dense,Reshape,Dropout,LeakyReLU,Flatten,BatchNormalization,Conv2D,Conv2DTranspose\n",
    "from tensorflow.keras.models import Sequential"
   ]
  },
  {
   "cell_type": "code",
   "execution_count": 69,
   "id": "68aefc6c",
   "metadata": {},
   "outputs": [],
   "source": [
    "np.random.seed(42)\n",
    "tf.random.set_seed(42)\n",
    "\n",
    "codings_size = 100"
   ]
  },
  {
   "cell_type": "code",
   "execution_count": 72,
   "id": "f60794ab",
   "metadata": {},
   "outputs": [],
   "source": [
    "generator = Sequential()\n",
    "generator.add(Dense(7 * 7 * 128, input_shape=[codings_size]))\n",
    "generator.add(Reshape([7, 7, 128]))\n",
    "generator.add(BatchNormalization())\n",
    "generator.add(Conv2DTranspose(64, kernel_size=5, strides=2, padding=\"same\",\n",
    "                                 activation=\"relu\"))\n",
    "generator.add(BatchNormalization())\n",
    "generator.add(Conv2DTranspose(1, kernel_size=5, strides=2, padding=\"same\",\n",
    "                                 activation=\"tanh\"))"
   ]
  },
  {
   "cell_type": "code",
   "execution_count": 73,
   "id": "2e36e7fa",
   "metadata": {},
   "outputs": [],
   "source": [
    "discriminator = Sequential()\n",
    "discriminator.add(Conv2D(64, kernel_size=5, strides=2, padding=\"same\",\n",
    "                        activation=LeakyReLU(0.3),\n",
    "                        input_shape=[28, 28, 1]))\n",
    "discriminator.add(Dropout(0.5))\n",
    "discriminator.add(Conv2D(128, kernel_size=5, strides=2, padding=\"same\",\n",
    "                        activation=LeakyReLU(0.3)))\n",
    "discriminator.add(Dropout(0.5))\n",
    "discriminator.add(Flatten())\n",
    "discriminator.add(Dense(1, activation=\"sigmoid\"))"
   ]
  },
  {
   "cell_type": "code",
   "execution_count": 74,
   "id": "0f93e32f",
   "metadata": {},
   "outputs": [],
   "source": [
    "GAN = Sequential([generator, discriminator])"
   ]
  },
  {
   "cell_type": "code",
   "execution_count": 75,
   "id": "75c4d917",
   "metadata": {},
   "outputs": [],
   "source": [
    "discriminator.compile(loss=\"binary_crossentropy\", optimizer=\"adam\")\n",
    "discriminator.trainable = False"
   ]
  },
  {
   "cell_type": "code",
   "execution_count": 76,
   "id": "de424169",
   "metadata": {},
   "outputs": [],
   "source": [
    "GAN.compile(loss=\"binary_crossentropy\", optimizer=\"adam\")"
   ]
  },
  {
   "cell_type": "code",
   "execution_count": 77,
   "id": "3d0f0cd3",
   "metadata": {},
   "outputs": [
    {
     "data": {
      "text/plain": [
       "[<tensorflow.python.keras.engine.sequential.Sequential at 0x1c4b291a9c8>,\n",
       " <tensorflow.python.keras.engine.sequential.Sequential at 0x1c4b2ac9f08>]"
      ]
     },
     "execution_count": 77,
     "metadata": {},
     "output_type": "execute_result"
    }
   ],
   "source": [
    "GAN.layers"
   ]
  },
  {
   "cell_type": "code",
   "execution_count": 78,
   "id": "4c8613dd",
   "metadata": {},
   "outputs": [
    {
     "data": {
      "text/plain": [
       "[<tensorflow.python.keras.engine.sequential.Sequential at 0x1c4b291a9c8>,\n",
       " <tensorflow.python.keras.engine.sequential.Sequential at 0x1c4b2ac9f08>]"
      ]
     },
     "execution_count": 78,
     "metadata": {},
     "output_type": "execute_result"
    }
   ],
   "source": [
    "GAN.layers"
   ]
  },
  {
   "cell_type": "code",
   "execution_count": 79,
   "id": "91400ad3",
   "metadata": {},
   "outputs": [
    {
     "name": "stdout",
     "output_type": "stream",
     "text": [
      "Model: \"sequential_6\"\n",
      "_________________________________________________________________\n",
      "Layer (type)                 Output Shape              Param #   \n",
      "=================================================================\n",
      "dense_5 (Dense)              (None, 6272)              633472    \n",
      "_________________________________________________________________\n",
      "reshape_3 (Reshape)          (None, 7, 7, 128)         0         \n",
      "_________________________________________________________________\n",
      "batch_normalization_6 (Batch (None, 7, 7, 128)         512       \n",
      "_________________________________________________________________\n",
      "conv2d_transpose_5 (Conv2DTr (None, 14, 14, 64)        204864    \n",
      "_________________________________________________________________\n",
      "batch_normalization_7 (Batch (None, 14, 14, 64)        256       \n",
      "_________________________________________________________________\n",
      "conv2d_transpose_6 (Conv2DTr (None, 28, 28, 1)         1601      \n",
      "=================================================================\n",
      "Total params: 840,705\n",
      "Trainable params: 840,321\n",
      "Non-trainable params: 384\n",
      "_________________________________________________________________\n"
     ]
    }
   ],
   "source": [
    "GAN.layers[0].summary()"
   ]
  },
  {
   "cell_type": "code",
   "execution_count": 81,
   "id": "13e78934",
   "metadata": {},
   "outputs": [
    {
     "name": "stdout",
     "output_type": "stream",
     "text": [
      "Model: \"sequential_7\"\n",
      "_________________________________________________________________\n",
      "Layer (type)                 Output Shape              Param #   \n",
      "=================================================================\n",
      "conv2d_4 (Conv2D)            (None, 14, 14, 64)        1664      \n",
      "_________________________________________________________________\n",
      "dropout_4 (Dropout)          (None, 14, 14, 64)        0         \n",
      "_________________________________________________________________\n",
      "conv2d_5 (Conv2D)            (None, 7, 7, 128)         204928    \n",
      "_________________________________________________________________\n",
      "dropout_5 (Dropout)          (None, 7, 7, 128)         0         \n",
      "_________________________________________________________________\n",
      "flatten_2 (Flatten)          (None, 6272)              0         \n",
      "_________________________________________________________________\n",
      "dense_6 (Dense)              (None, 1)                 6273      \n",
      "=================================================================\n",
      "WARNING:tensorflow:Discrepancy between trainable weights and collected trainable weights, did you set `model.trainable` without calling `model.compile` after ?\n",
      "Total params: 425,730\n",
      "Trainable params: 212,865\n",
      "Non-trainable params: 212,865\n",
      "_________________________________________________________________\n"
     ]
    }
   ],
   "source": [
    "GAN.layers[1].summary()"
   ]
  },
  {
   "cell_type": "code",
   "execution_count": 82,
   "id": "56ced421",
   "metadata": {},
   "outputs": [],
   "source": [
    "import tensorflow as tf"
   ]
  },
  {
   "cell_type": "code",
   "execution_count": 83,
   "id": "a6912218",
   "metadata": {},
   "outputs": [],
   "source": [
    "batch_size = 32"
   ]
  },
  {
   "cell_type": "code",
   "execution_count": 84,
   "id": "ea0d4c25",
   "metadata": {},
   "outputs": [],
   "source": [
    "# my_data = X_train\n",
    "my_data = only_zeros"
   ]
  },
  {
   "cell_type": "code",
   "execution_count": 85,
   "id": "2924723c",
   "metadata": {},
   "outputs": [],
   "source": [
    "dataset = tf.data.Dataset.from_tensor_slices(my_data).shuffle(buffer_size=1000)"
   ]
  },
  {
   "cell_type": "code",
   "execution_count": 86,
   "id": "7d780111",
   "metadata": {},
   "outputs": [
    {
     "data": {
      "text/plain": [
       "tensorflow.python.data.ops.dataset_ops.ShuffleDataset"
      ]
     },
     "execution_count": 86,
     "metadata": {},
     "output_type": "execute_result"
    }
   ],
   "source": [
    "type(dataset)"
   ]
  },
  {
   "cell_type": "code",
   "execution_count": 87,
   "id": "145e1288",
   "metadata": {},
   "outputs": [],
   "source": [
    "dataset = dataset.batch(batch_size, drop_remainder=True).prefetch(1)"
   ]
  },
  {
   "cell_type": "code",
   "execution_count": 88,
   "id": "c2a71e55",
   "metadata": {},
   "outputs": [],
   "source": [
    "epochs = 20"
   ]
  },
  {
   "cell_type": "code",
   "execution_count": 89,
   "id": "cce6beb7",
   "metadata": {},
   "outputs": [
    {
     "name": "stdout",
     "output_type": "stream",
     "text": [
      "Currently on Epoch 1\n",
      "\tCurrently on batch number 20 of 185\n",
      "\tCurrently on batch number 40 of 185\n",
      "\tCurrently on batch number 60 of 185\n",
      "\tCurrently on batch number 80 of 185\n",
      "\tCurrently on batch number 100 of 185\n",
      "\tCurrently on batch number 120 of 185\n",
      "\tCurrently on batch number 140 of 185\n",
      "\tCurrently on batch number 160 of 185\n",
      "\tCurrently on batch number 180 of 185\n",
      "Currently on Epoch 2\n",
      "\tCurrently on batch number 20 of 185\n",
      "\tCurrently on batch number 40 of 185\n",
      "\tCurrently on batch number 60 of 185\n",
      "\tCurrently on batch number 80 of 185\n",
      "\tCurrently on batch number 100 of 185\n",
      "\tCurrently on batch number 120 of 185\n",
      "\tCurrently on batch number 140 of 185\n",
      "\tCurrently on batch number 160 of 185\n",
      "\tCurrently on batch number 180 of 185\n",
      "Currently on Epoch 3\n",
      "\tCurrently on batch number 20 of 185\n",
      "\tCurrently on batch number 40 of 185\n",
      "\tCurrently on batch number 60 of 185\n",
      "\tCurrently on batch number 80 of 185\n",
      "\tCurrently on batch number 100 of 185\n",
      "\tCurrently on batch number 120 of 185\n",
      "\tCurrently on batch number 140 of 185\n",
      "\tCurrently on batch number 160 of 185\n",
      "\tCurrently on batch number 180 of 185\n",
      "Currently on Epoch 4\n",
      "\tCurrently on batch number 20 of 185\n",
      "\tCurrently on batch number 40 of 185\n",
      "\tCurrently on batch number 60 of 185\n",
      "\tCurrently on batch number 80 of 185\n",
      "\tCurrently on batch number 100 of 185\n",
      "\tCurrently on batch number 120 of 185\n",
      "\tCurrently on batch number 140 of 185\n",
      "\tCurrently on batch number 160 of 185\n",
      "\tCurrently on batch number 180 of 185\n",
      "Currently on Epoch 5\n",
      "\tCurrently on batch number 20 of 185\n",
      "\tCurrently on batch number 40 of 185\n",
      "\tCurrently on batch number 60 of 185\n",
      "\tCurrently on batch number 80 of 185\n",
      "\tCurrently on batch number 100 of 185\n",
      "\tCurrently on batch number 120 of 185\n",
      "\tCurrently on batch number 140 of 185\n",
      "\tCurrently on batch number 160 of 185\n",
      "\tCurrently on batch number 180 of 185\n",
      "Currently on Epoch 6\n",
      "\tCurrently on batch number 20 of 185\n",
      "\tCurrently on batch number 40 of 185\n",
      "\tCurrently on batch number 60 of 185\n",
      "\tCurrently on batch number 80 of 185\n",
      "\tCurrently on batch number 100 of 185\n",
      "\tCurrently on batch number 120 of 185\n",
      "\tCurrently on batch number 140 of 185\n",
      "\tCurrently on batch number 160 of 185\n",
      "\tCurrently on batch number 180 of 185\n",
      "Currently on Epoch 7\n",
      "\tCurrently on batch number 20 of 185\n",
      "\tCurrently on batch number 40 of 185\n",
      "\tCurrently on batch number 60 of 185\n",
      "\tCurrently on batch number 80 of 185\n",
      "\tCurrently on batch number 100 of 185\n",
      "\tCurrently on batch number 120 of 185\n",
      "\tCurrently on batch number 140 of 185\n",
      "\tCurrently on batch number 160 of 185\n",
      "\tCurrently on batch number 180 of 185\n",
      "Currently on Epoch 8\n",
      "\tCurrently on batch number 20 of 185\n",
      "\tCurrently on batch number 40 of 185\n",
      "\tCurrently on batch number 60 of 185\n",
      "\tCurrently on batch number 80 of 185\n",
      "\tCurrently on batch number 100 of 185\n",
      "\tCurrently on batch number 120 of 185\n",
      "\tCurrently on batch number 140 of 185\n",
      "\tCurrently on batch number 160 of 185\n",
      "\tCurrently on batch number 180 of 185\n",
      "Currently on Epoch 9\n",
      "\tCurrently on batch number 20 of 185\n",
      "\tCurrently on batch number 40 of 185\n",
      "\tCurrently on batch number 60 of 185\n",
      "\tCurrently on batch number 80 of 185\n",
      "\tCurrently on batch number 100 of 185\n",
      "\tCurrently on batch number 120 of 185\n",
      "\tCurrently on batch number 140 of 185\n",
      "\tCurrently on batch number 160 of 185\n",
      "\tCurrently on batch number 180 of 185\n",
      "Currently on Epoch 10\n",
      "\tCurrently on batch number 20 of 185\n",
      "\tCurrently on batch number 40 of 185\n",
      "\tCurrently on batch number 60 of 185\n",
      "\tCurrently on batch number 80 of 185\n",
      "\tCurrently on batch number 100 of 185\n",
      "\tCurrently on batch number 120 of 185\n",
      "\tCurrently on batch number 140 of 185\n",
      "\tCurrently on batch number 160 of 185\n",
      "\tCurrently on batch number 180 of 185\n",
      "Currently on Epoch 11\n",
      "\tCurrently on batch number 20 of 185\n",
      "\tCurrently on batch number 40 of 185\n",
      "\tCurrently on batch number 60 of 185\n",
      "\tCurrently on batch number 80 of 185\n",
      "\tCurrently on batch number 100 of 185\n",
      "\tCurrently on batch number 120 of 185\n",
      "\tCurrently on batch number 140 of 185\n",
      "\tCurrently on batch number 160 of 185\n",
      "\tCurrently on batch number 180 of 185\n",
      "Currently on Epoch 12\n",
      "\tCurrently on batch number 20 of 185\n",
      "\tCurrently on batch number 40 of 185\n",
      "\tCurrently on batch number 60 of 185\n",
      "\tCurrently on batch number 80 of 185\n",
      "\tCurrently on batch number 100 of 185\n",
      "\tCurrently on batch number 120 of 185\n",
      "\tCurrently on batch number 140 of 185\n",
      "\tCurrently on batch number 160 of 185\n",
      "\tCurrently on batch number 180 of 185\n",
      "Currently on Epoch 13\n",
      "\tCurrently on batch number 20 of 185\n",
      "\tCurrently on batch number 40 of 185\n",
      "\tCurrently on batch number 60 of 185\n",
      "\tCurrently on batch number 80 of 185\n",
      "\tCurrently on batch number 100 of 185\n",
      "\tCurrently on batch number 120 of 185\n",
      "\tCurrently on batch number 140 of 185\n",
      "\tCurrently on batch number 160 of 185\n",
      "\tCurrently on batch number 180 of 185\n",
      "Currently on Epoch 14\n",
      "\tCurrently on batch number 20 of 185\n",
      "\tCurrently on batch number 40 of 185\n",
      "\tCurrently on batch number 60 of 185\n",
      "\tCurrently on batch number 80 of 185\n",
      "\tCurrently on batch number 100 of 185\n",
      "\tCurrently on batch number 120 of 185\n",
      "\tCurrently on batch number 140 of 185\n",
      "\tCurrently on batch number 160 of 185\n",
      "\tCurrently on batch number 180 of 185\n",
      "Currently on Epoch 15\n",
      "\tCurrently on batch number 20 of 185\n",
      "\tCurrently on batch number 40 of 185\n",
      "\tCurrently on batch number 60 of 185\n",
      "\tCurrently on batch number 80 of 185\n",
      "\tCurrently on batch number 100 of 185\n",
      "\tCurrently on batch number 120 of 185\n",
      "\tCurrently on batch number 140 of 185\n",
      "\tCurrently on batch number 160 of 185\n",
      "\tCurrently on batch number 180 of 185\n",
      "Currently on Epoch 16\n",
      "\tCurrently on batch number 20 of 185\n",
      "\tCurrently on batch number 40 of 185\n",
      "\tCurrently on batch number 60 of 185\n",
      "\tCurrently on batch number 80 of 185\n",
      "\tCurrently on batch number 100 of 185\n",
      "\tCurrently on batch number 120 of 185\n",
      "\tCurrently on batch number 140 of 185\n",
      "\tCurrently on batch number 160 of 185\n",
      "\tCurrently on batch number 180 of 185\n",
      "Currently on Epoch 17\n",
      "\tCurrently on batch number 20 of 185\n",
      "\tCurrently on batch number 40 of 185\n",
      "\tCurrently on batch number 60 of 185\n",
      "\tCurrently on batch number 80 of 185\n",
      "\tCurrently on batch number 100 of 185\n",
      "\tCurrently on batch number 120 of 185\n",
      "\tCurrently on batch number 140 of 185\n",
      "\tCurrently on batch number 160 of 185\n",
      "\tCurrently on batch number 180 of 185\n",
      "Currently on Epoch 18\n",
      "\tCurrently on batch number 20 of 185\n",
      "\tCurrently on batch number 40 of 185\n",
      "\tCurrently on batch number 60 of 185\n",
      "\tCurrently on batch number 80 of 185\n",
      "\tCurrently on batch number 100 of 185\n",
      "\tCurrently on batch number 120 of 185\n",
      "\tCurrently on batch number 140 of 185\n",
      "\tCurrently on batch number 160 of 185\n",
      "\tCurrently on batch number 180 of 185\n",
      "Currently on Epoch 19\n",
      "\tCurrently on batch number 20 of 185\n",
      "\tCurrently on batch number 40 of 185\n",
      "\tCurrently on batch number 60 of 185\n",
      "\tCurrently on batch number 80 of 185\n",
      "\tCurrently on batch number 100 of 185\n",
      "\tCurrently on batch number 120 of 185\n",
      "\tCurrently on batch number 140 of 185\n",
      "\tCurrently on batch number 160 of 185\n",
      "\tCurrently on batch number 180 of 185\n",
      "Currently on Epoch 20\n",
      "\tCurrently on batch number 20 of 185\n",
      "\tCurrently on batch number 40 of 185\n",
      "\tCurrently on batch number 60 of 185\n",
      "\tCurrently on batch number 80 of 185\n",
      "\tCurrently on batch number 100 of 185\n",
      "\tCurrently on batch number 120 of 185\n",
      "\tCurrently on batch number 140 of 185\n",
      "\tCurrently on batch number 160 of 185\n",
      "\tCurrently on batch number 180 of 185\n",
      "TRAINING COMPLETE\n"
     ]
    }
   ],
   "source": [
    "# Grab the seprate components\n",
    "generator, discriminator = GAN.layers\n",
    "\n",
    "# For every epcoh\n",
    "for epoch in range(epochs):\n",
    "    print(f\"Currently on Epoch {epoch+1}\")\n",
    "    i = 0\n",
    "    # For every batch in the dataset\n",
    "    for X_batch in dataset:\n",
    "        i=i+1\n",
    "        if i%20 == 0:\n",
    "            print(f\"\\tCurrently on batch number {i} of {len(my_data)//batch_size}\")\n",
    "        #####################################\n",
    "        ## TRAINING THE DISCRIMINATOR ######\n",
    "        ###################################\n",
    "        \n",
    "        # Create Noise\n",
    "        noise = tf.random.normal(shape=[batch_size, codings_size])\n",
    "        \n",
    "        # Generate numbers based just on noise input\n",
    "        gen_images = generator(noise)\n",
    "        \n",
    "        # Concatenate Generated Images against the Real Ones\n",
    "        # TO use tf.concat, the data types must match!\n",
    "        X_fake_vs_real = tf.concat([gen_images, tf.dtypes.cast(X_batch,tf.float32)], axis=0)\n",
    "        \n",
    "        # Targets set to zero for fake images and 1 for real images\n",
    "        y1 = tf.constant([[0.]] * batch_size + [[1.]] * batch_size)\n",
    "        \n",
    "        # This gets rid of a Keras warning\n",
    "        discriminator.trainable = True\n",
    "        \n",
    "        # Train the discriminator on this batch\n",
    "        discriminator.train_on_batch(X_fake_vs_real, y1)\n",
    "        \n",
    "        \n",
    "        #####################################\n",
    "        ## TRAINING THE GENERATOR     ######\n",
    "        ###################################\n",
    "        \n",
    "        # Create some noise\n",
    "        noise = tf.random.normal(shape=[batch_size, codings_size])\n",
    "        \n",
    "        # We want discriminator to belive that fake images are real\n",
    "        y2 = tf.constant([[1.]] * batch_size)\n",
    "        \n",
    "        # Avois a warning\n",
    "        discriminator.trainable = False\n",
    "        \n",
    "        GAN.train_on_batch(noise, y2)\n",
    "        \n",
    "print(\"TRAINING COMPLETE\")            "
   ]
  },
  {
   "cell_type": "code",
   "execution_count": 94,
   "id": "02b31cc3",
   "metadata": {},
   "outputs": [],
   "source": [
    "noise = tf.random.normal(shape=[10, codings_size])"
   ]
  },
  {
   "cell_type": "code",
   "execution_count": 96,
   "id": "cbbe19ea",
   "metadata": {},
   "outputs": [
    {
     "data": {
      "text/plain": [
       "TensorShape([10, 100])"
      ]
     },
     "execution_count": 96,
     "metadata": {},
     "output_type": "execute_result"
    }
   ],
   "source": [
    "noise.shape"
   ]
  },
  {
   "cell_type": "code",
   "execution_count": 97,
   "id": "bf98fe5b",
   "metadata": {},
   "outputs": [
    {
     "data": {
      "text/plain": [
       "<matplotlib.image.AxesImage at 0x1c4b1602808>"
      ]
     },
     "execution_count": 97,
     "metadata": {},
     "output_type": "execute_result"
    },
    {
     "data": {
      "image/png": "[encoded data removed]",
      "text/plain": [
       "<Figure size 432x288 with 1 Axes>"
      ]
     },
     "metadata": {
      "needs_background": "light"
     },
     "output_type": "display_data"
    }
   ],
   "source": [
    "plt.imshow(noise)"
   ]
  },
  {
   "cell_type": "code",
   "execution_count": 98,
   "id": "1e7702c8",
   "metadata": {},
   "outputs": [],
   "source": [
    "images = generator(noise)"
   ]
  },
  {
   "cell_type": "code",
   "execution_count": 99,
   "id": "2dadb5b4",
   "metadata": {},
   "outputs": [],
   "source": [
    "single_image = images[0]"
   ]
  },
  {
   "cell_type": "code",
   "execution_count": 101,
   "id": "c5d084df",
   "metadata": {},
   "outputs": [
    {
     "data": {
      "image/png": "[encoded data removed]",
      "text/plain": [
       "<Figure size 432x288 with 1 Axes>"
      ]
     },
     "metadata": {
      "needs_background": "light"
     },
     "output_type": "display_data"
    },
    {
     "data": {
      "image/png": "[encoded data removed]",
      "text/plain": [
       "<Figure size 432x288 with 1 Axes>"
      ]
     },
     "metadata": {
      "needs_background": "light"
     },
     "output_type": "display_data"
    },
    {
     "data": {
      "image/png": "[encoded data removed]",
      "text/plain": [
       "<Figure size 432x288 with 1 Axes>"
      ]
     },
     "metadata": {
      "needs_background": "light"
     },
     "output_type": "display_data"
    },
    {
     "data": {
      "image/png": "[encoded data removed]",
      "text/plain": [
       "<Figure size 432x288 with 1 Axes>"
      ]
     },
     "metadata": {
      "needs_background": "light"
     },
     "output_type": "display_data"
    },
    {
     "data": {
      "image/png": "[encoded data removed]",
      "text/plain": [
       "<Figure size 432x288 with 1 Axes>"
      ]
     },
     "metadata": {
      "needs_background": "light"
     },
     "output_type": "display_data"
    },
    {
     "data": {
      "image/png": "[encoded data removed]",
      "text/plain": [
       "<Figure size 432x288 with 1 Axes>"
      ]
     },
     "metadata": {
      "needs_background": "light"
     },
     "output_type": "display_data"
    },
    {
     "data": {
      "image/png": "[encoded data removed]",
      "text/plain": [
       "<Figure size 432x288 with 1 Axes>"
      ]
     },
     "metadata": {
      "needs_background": "light"
     },
     "output_type": "display_data"
    },
    {
     "data": {
      "image/png": "[encoded data removed]",
      "text/plain": [
       "<Figure size 432x288 with 1 Axes>"
      ]
     },
     "metadata": {
      "needs_background": "light"
     },
     "output_type": "display_data"
    },
    {
     "data": {
      "image/png": "[encoded data removed]",
      "text/plain": [
       "<Figure size 432x288 with 1 Axes>"
      ]
     },
     "metadata": {
      "needs_background": "light"
     },
     "output_type": "display_data"
    },
    {
     "data": {
      "image/png": "[encoded data removed]",
      "text/plain": [
       "<Figure size 432x288 with 1 Axes>"
      ]
     },
     "metadata": {
      "needs_background": "light"
     },
     "output_type": "display_data"
    }
   ],
   "source": [
    "for image in images:\n",
    "    plt.imshow(image.numpy().reshape(28,28))\n",
    "    plt.show()"
   ]
  },
  {
   "cell_type": "code",
   "execution_count": 102,
   "id": "33598584",
   "metadata": {},
   "outputs": [],
   "source": [
    "# reworking the GAN to use convolutional layers got some better results and avoided the mode collapse that we got from\n",
    "# using only dense layers\n",
    "#\n",
    "# the resulting zeros are noticeably different from each other and still look like zeros"
   ]
  },
  {
   "cell_type": "code",
   "execution_count": null,
   "id": "db0ff881",
   "metadata": {},
   "outputs": [],
   "source": []
  }
 ],
 "metadata": {
  "kernelspec": {
   "display_name": "Python 3 (ipykernel)",
   "language": "python",
   "name": "python3"
  },
  "language_info": {
   "codemirror_mode": {
    "name": "ipython",
    "version": 3
   },
   "file_extension": ".py",
   "mimetype": "text/x-python",
   "name": "python",
   "nbconvert_exporter": "python",
   "pygments_lexer": "ipython3",
   "version": "3.7.11"
  }
 },
 "nbformat": 4,
 "nbformat_minor": 5
}
